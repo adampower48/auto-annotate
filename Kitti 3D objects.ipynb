{
 "cells": [
  {
   "cell_type": "code",
   "execution_count": 12,
   "metadata": {},
   "outputs": [
    {
     "data": {
      "text/html": [
       "        <script type=\"text/javascript\">\n",
       "        window.PlotlyConfig = {MathJaxConfig: 'local'};\n",
       "        if (window.MathJax) {MathJax.Hub.Config({SVG: {font: \"STIX-Web\"}});}\n",
       "        if (typeof require !== 'undefined') {\n",
       "        require.undef(\"plotly\");\n",
       "        requirejs.config({\n",
       "            paths: {\n",
       "                'plotly': ['https://cdn.plot.ly/plotly-latest.min']\n",
       "            }\n",
       "        });\n",
       "        require(['plotly'], function(Plotly) {\n",
       "            window._Plotly = Plotly;\n",
       "        });\n",
       "        }\n",
       "        </script>\n",
       "        "
      ]
     },
     "metadata": {},
     "output_type": "display_data"
    }
   ],
   "source": [
    "import pandas as pd\n",
    "import matplotlib.pyplot as plt\n",
    "%matplotlib inline\n",
    "\n",
    "import plotly.offline as ply\n",
    "import plotly.graph_objs as go\n",
    "ply.init_notebook_mode(connected=True)"
   ]
  },
  {
   "cell_type": "code",
   "execution_count": 32,
   "metadata": {},
   "outputs": [
    {
     "data": {
      "text/html": [
       "<div>\n",
       "<style scoped>\n",
       "    .dataframe tbody tr th:only-of-type {\n",
       "        vertical-align: middle;\n",
       "    }\n",
       "\n",
       "    .dataframe tbody tr th {\n",
       "        vertical-align: top;\n",
       "    }\n",
       "\n",
       "    .dataframe thead th {\n",
       "        text-align: right;\n",
       "    }\n",
       "</style>\n",
       "<table border=\"1\" class=\"dataframe\">\n",
       "  <thead>\n",
       "    <tr style=\"text-align: right;\">\n",
       "      <th></th>\n",
       "      <th>frame</th>\n",
       "      <th>track_id</th>\n",
       "      <th>type</th>\n",
       "      <th>truncated</th>\n",
       "      <th>occluded</th>\n",
       "      <th>alpha</th>\n",
       "      <th>bbox_left</th>\n",
       "      <th>bbox_top</th>\n",
       "      <th>bbox_right</th>\n",
       "      <th>bbox_bottom</th>\n",
       "      <th>height</th>\n",
       "      <th>width</th>\n",
       "      <th>length</th>\n",
       "      <th>loc_x</th>\n",
       "      <th>loc_y</th>\n",
       "      <th>loc_z</th>\n",
       "      <th>rot_y</th>\n",
       "      <th>score</th>\n",
       "    </tr>\n",
       "  </thead>\n",
       "  <tbody>\n",
       "    <tr>\n",
       "      <th>0</th>\n",
       "      <td>0</td>\n",
       "      <td>-1</td>\n",
       "      <td>DontCare</td>\n",
       "      <td>-1</td>\n",
       "      <td>-1</td>\n",
       "      <td>-10.000000</td>\n",
       "      <td>447.390000</td>\n",
       "      <td>168.810000</td>\n",
       "      <td>652.810000</td>\n",
       "      <td>204.560000</td>\n",
       "      <td>-1000.000000</td>\n",
       "      <td>-1000.000000</td>\n",
       "      <td>-1000.000000</td>\n",
       "      <td>-10.000000</td>\n",
       "      <td>-1.000000</td>\n",
       "      <td>-1.000000</td>\n",
       "      <td>-1.000000</td>\n",
       "      <td>NaN</td>\n",
       "    </tr>\n",
       "    <tr>\n",
       "      <th>1</th>\n",
       "      <td>0</td>\n",
       "      <td>-1</td>\n",
       "      <td>DontCare</td>\n",
       "      <td>-1</td>\n",
       "      <td>-1</td>\n",
       "      <td>-10.000000</td>\n",
       "      <td>375.890000</td>\n",
       "      <td>176.080000</td>\n",
       "      <td>433.460000</td>\n",
       "      <td>213.040000</td>\n",
       "      <td>-1000.000000</td>\n",
       "      <td>-1000.000000</td>\n",
       "      <td>-1000.000000</td>\n",
       "      <td>-10.000000</td>\n",
       "      <td>-1.000000</td>\n",
       "      <td>-1.000000</td>\n",
       "      <td>-1.000000</td>\n",
       "      <td>NaN</td>\n",
       "    </tr>\n",
       "    <tr>\n",
       "      <th>2</th>\n",
       "      <td>0</td>\n",
       "      <td>0</td>\n",
       "      <td>Car</td>\n",
       "      <td>0</td>\n",
       "      <td>0</td>\n",
       "      <td>-1.595502</td>\n",
       "      <td>685.957942</td>\n",
       "      <td>188.300055</td>\n",
       "      <td>795.011372</td>\n",
       "      <td>287.419861</td>\n",
       "      <td>1.373864</td>\n",
       "      <td>1.542243</td>\n",
       "      <td>3.558456</td>\n",
       "      <td>2.120008</td>\n",
       "      <td>1.454245</td>\n",
       "      <td>12.154231</td>\n",
       "      <td>-1.427147</td>\n",
       "      <td>NaN</td>\n",
       "    </tr>\n",
       "    <tr>\n",
       "      <th>3</th>\n",
       "      <td>0</td>\n",
       "      <td>1</td>\n",
       "      <td>Car</td>\n",
       "      <td>0</td>\n",
       "      <td>0</td>\n",
       "      <td>-0.939218</td>\n",
       "      <td>0.000000</td>\n",
       "      <td>189.247001</td>\n",
       "      <td>197.891565</td>\n",
       "      <td>317.779728</td>\n",
       "      <td>1.423651</td>\n",
       "      <td>1.557512</td>\n",
       "      <td>4.097414</td>\n",
       "      <td>-7.823034</td>\n",
       "      <td>1.514566</td>\n",
       "      <td>10.236950</td>\n",
       "      <td>-1.579235</td>\n",
       "      <td>NaN</td>\n",
       "    </tr>\n",
       "    <tr>\n",
       "      <th>4</th>\n",
       "      <td>0</td>\n",
       "      <td>2</td>\n",
       "      <td>Car</td>\n",
       "      <td>0</td>\n",
       "      <td>1</td>\n",
       "      <td>-1.215206</td>\n",
       "      <td>285.186360</td>\n",
       "      <td>177.777577</td>\n",
       "      <td>384.135346</td>\n",
       "      <td>235.088992</td>\n",
       "      <td>1.577910</td>\n",
       "      <td>1.572317</td>\n",
       "      <td>3.721744</td>\n",
       "      <td>-8.192287</td>\n",
       "      <td>1.365568</td>\n",
       "      <td>21.808150</td>\n",
       "      <td>-1.570796</td>\n",
       "      <td>NaN</td>\n",
       "    </tr>\n",
       "  </tbody>\n",
       "</table>\n",
       "</div>"
      ],
      "text/plain": [
       "   frame  track_id      type  truncated  occluded      alpha   bbox_left  \\\n",
       "0      0        -1  DontCare         -1        -1 -10.000000  447.390000   \n",
       "1      0        -1  DontCare         -1        -1 -10.000000  375.890000   \n",
       "2      0         0       Car          0         0  -1.595502  685.957942   \n",
       "3      0         1       Car          0         0  -0.939218    0.000000   \n",
       "4      0         2       Car          0         1  -1.215206  285.186360   \n",
       "\n",
       "     bbox_top  bbox_right  bbox_bottom       height        width       length  \\\n",
       "0  168.810000  652.810000   204.560000 -1000.000000 -1000.000000 -1000.000000   \n",
       "1  176.080000  433.460000   213.040000 -1000.000000 -1000.000000 -1000.000000   \n",
       "2  188.300055  795.011372   287.419861     1.373864     1.542243     3.558456   \n",
       "3  189.247001  197.891565   317.779728     1.423651     1.557512     4.097414   \n",
       "4  177.777577  384.135346   235.088992     1.577910     1.572317     3.721744   \n",
       "\n",
       "       loc_x     loc_y      loc_z     rot_y  score  \n",
       "0 -10.000000 -1.000000  -1.000000 -1.000000    NaN  \n",
       "1 -10.000000 -1.000000  -1.000000 -1.000000    NaN  \n",
       "2   2.120008  1.454245  12.154231 -1.427147    NaN  \n",
       "3  -7.823034  1.514566  10.236950 -1.579235    NaN  \n",
       "4  -8.192287  1.365568  21.808150 -1.570796    NaN  "
      ]
     },
     "execution_count": 32,
     "metadata": {},
     "output_type": "execute_result"
    }
   ],
   "source": [
    "df = pd.read_csv(\"data/KITTI/Samples/Training/Tracking_Labels/0020.txt\", header=None, sep=\" \", \n",
    "                names = [\"frame\", \"track_id\", \"type\", \"truncated\", \"occluded\", \"alpha\", \"bbox_left\", \"bbox_top\", \"bbox_right\", \"bbox_bottom\", \"height\", \"width\", \"length\", \"loc_x\", \"loc_y\", \"loc_z\", \"rot_y\", \"score\"]\n",
    "                )\n",
    "df.head()"
   ]
  },
  {
   "cell_type": "code",
   "execution_count": 47,
   "metadata": {},
   "outputs": [
    {
     "data": {
      "application/vnd.plotly.v1+json": {
       "config": {
        "linkText": "Export to plot.ly",
        "plotlyServerURL": "https://plot.ly",
        "showLink": false
       },
       "data": [
        {
         "mode": "markers",
         "type": "scatter",
         "uid": "4adadc4e-5721-4e76-9415-28f132f0a936",
         "x": [
          2.1200080000000003,
          -7.823034,
          -8.192287,
          -3.7635019999999995,
          -3.913699,
          2.744247,
          -4.220067,
          -8.455217999999999,
          -4.789695,
          -0.362095,
          2.9457009999999997,
          2.094607,
          -25.435969
         ],
         "y": [
          12.154231,
          10.23695,
          21.80815,
          14.399510999999999,
          24.771168,
          23.429192,
          33.033854,
          37.308533000000004,
          54.995146,
          40.875366,
          40.450153,
          49.407113,
          29.659728
         ]
        }
       ],
       "layout": {
        "shapes": [
         {
          "type": "rect",
          "x0": 1.3488865000000003,
          "x1": 2.8911295000000004,
          "y0": 10.375003,
          "y1": 13.933459
         },
         {
          "type": "rect",
          "x0": -8.60179,
          "x1": -7.044278,
          "y0": 8.188243,
          "y1": 12.285657
         },
         {
          "type": "rect",
          "x0": -8.9784455,
          "x1": -7.4061285,
          "y0": 19.947278,
          "y1": 23.669022000000002
         },
         {
          "type": "rect",
          "x0": -4.579445999999999,
          "x1": -2.9475579999999995,
          "y0": 12.487963999999998,
          "y1": 16.311058
         },
         {
          "type": "rect",
          "x0": -4.719425,
          "x1": -3.107973,
          "y0": 23.059905,
          "y1": 26.482431
         },
         {
          "type": "rect",
          "x0": 1.9147375000000002,
          "x1": 3.5737565,
          "y0": 21.4082315,
          "y1": 25.4501525
         },
         {
          "type": "rect",
          "x0": -5.0235650000000005,
          "x1": -3.4165690000000004,
          "y0": 30.953252499999998,
          "y1": 35.1144555
         },
         {
          "type": "rect",
          "x0": -9.219910999999998,
          "x1": -7.690524999999998,
          "y0": 35.4397955,
          "y1": 39.177270500000006
         },
         {
          "type": "rect",
          "x0": -5.593386,
          "x1": -3.9860040000000003,
          "y0": 53.117239,
          "y1": 56.873053
         },
         {
          "type": "rect",
          "x0": -1.204056,
          "x1": 0.47986600000000007,
          "y0": 38.89926,
          "y1": 42.851472
         },
         {
          "type": "rect",
          "x0": 2.2389789999999996,
          "x1": 3.6524229999999998,
          "y0": 38.7448455,
          "y1": 42.155460500000004
         },
         {
          "type": "rect",
          "x0": 1.326794,
          "x1": 2.8624199999999997,
          "y0": 47.624852000000004,
          "y1": 51.189374
         },
         {
          "type": "rect",
          "x0": -26.477391,
          "x1": -24.394547,
          "y0": 26.409728,
          "y1": 32.909728
         }
        ],
        "xaxis": {
         "constrain": "domain"
        },
        "yaxis": {
         "scaleanchor": "x"
        }
       }
      },
      "text/html": [
       "<div>\n",
       "        \n",
       "        \n",
       "            <div id=\"4ca8c552-2e73-465b-af2c-198eae0e4c41\" class=\"plotly-graph-div\" style=\"height:525px; width:100%;\"></div>\n",
       "            <script type=\"text/javascript\">\n",
       "                require([\"plotly\"], function(Plotly) {\n",
       "                    window.PLOTLYENV=window.PLOTLYENV || {};\n",
       "                    window.PLOTLYENV.BASE_URL='https://plot.ly';\n",
       "                    \n",
       "                if (document.getElementById(\"4ca8c552-2e73-465b-af2c-198eae0e4c41\")) {\n",
       "                    Plotly.newPlot(\n",
       "                        '4ca8c552-2e73-465b-af2c-198eae0e4c41',\n",
       "                        [{\"mode\": \"markers\", \"type\": \"scatter\", \"uid\": \"4adadc4e-5721-4e76-9415-28f132f0a936\", \"x\": [2.1200080000000003, -7.823034, -8.192287, -3.7635019999999995, -3.913699, 2.744247, -4.220067, -8.455217999999999, -4.789695, -0.362095, 2.9457009999999997, 2.094607, -25.435969], \"y\": [12.154231, 10.23695, 21.80815, 14.399510999999999, 24.771168, 23.429192, 33.033854, 37.308533000000004, 54.995146, 40.875366, 40.450153, 49.407113, 29.659728]}],\n",
       "                        {\"shapes\": [{\"type\": \"rect\", \"x0\": 1.3488865000000003, \"x1\": 2.8911295000000004, \"y0\": 10.375003, \"y1\": 13.933459}, {\"type\": \"rect\", \"x0\": -8.60179, \"x1\": -7.044278, \"y0\": 8.188243, \"y1\": 12.285657}, {\"type\": \"rect\", \"x0\": -8.9784455, \"x1\": -7.4061285, \"y0\": 19.947278, \"y1\": 23.669022000000002}, {\"type\": \"rect\", \"x0\": -4.579445999999999, \"x1\": -2.9475579999999995, \"y0\": 12.487963999999998, \"y1\": 16.311058}, {\"type\": \"rect\", \"x0\": -4.719425, \"x1\": -3.107973, \"y0\": 23.059905, \"y1\": 26.482431}, {\"type\": \"rect\", \"x0\": 1.9147375000000002, \"x1\": 3.5737565, \"y0\": 21.4082315, \"y1\": 25.4501525}, {\"type\": \"rect\", \"x0\": -5.0235650000000005, \"x1\": -3.4165690000000004, \"y0\": 30.953252499999998, \"y1\": 35.1144555}, {\"type\": \"rect\", \"x0\": -9.219910999999998, \"x1\": -7.690524999999998, \"y0\": 35.4397955, \"y1\": 39.177270500000006}, {\"type\": \"rect\", \"x0\": -5.593386, \"x1\": -3.9860040000000003, \"y0\": 53.117239, \"y1\": 56.873053}, {\"type\": \"rect\", \"x0\": -1.204056, \"x1\": 0.47986600000000007, \"y0\": 38.89926, \"y1\": 42.851472}, {\"type\": \"rect\", \"x0\": 2.2389789999999996, \"x1\": 3.6524229999999998, \"y0\": 38.7448455, \"y1\": 42.155460500000004}, {\"type\": \"rect\", \"x0\": 1.326794, \"x1\": 2.8624199999999997, \"y0\": 47.624852000000004, \"y1\": 51.189374}, {\"type\": \"rect\", \"x0\": -26.477391, \"x1\": -24.394547, \"y0\": 26.409728, \"y1\": 32.909728}], \"xaxis\": {\"constrain\": \"domain\"}, \"yaxis\": {\"scaleanchor\": \"x\"}},\n",
       "                        {\"showLink\": false, \"linkText\": \"Export to plot.ly\", \"plotlyServerURL\": \"https://plot.ly\", \"responsive\": true}\n",
       "                    ).then(function(){\n",
       "                            \n",
       "var gd = document.getElementById('4ca8c552-2e73-465b-af2c-198eae0e4c41');\n",
       "var x = new MutationObserver(function (mutations, observer) {{\n",
       "        var display = window.getComputedStyle(gd).display;\n",
       "        if (!display || display === 'none') {{\n",
       "            console.log([gd, 'removed!']);\n",
       "            Plotly.purge(gd);\n",
       "            observer.disconnect();\n",
       "        }}\n",
       "}});\n",
       "\n",
       "// Listen for the removal of the full notebook cells\n",
       "var notebookContainer = gd.closest('#notebook-container');\n",
       "if (notebookContainer) {{\n",
       "    x.observe(notebookContainer, {childList: true});\n",
       "}}\n",
       "\n",
       "// Listen for the clearing of the current output cell\n",
       "var outputEl = gd.closest('.output');\n",
       "if (outputEl) {{\n",
       "    x.observe(outputEl, {childList: true});\n",
       "}}\n",
       "\n",
       "                        })\n",
       "                };\n",
       "                });\n",
       "            </script>\n",
       "        </div>"
      ]
     },
     "metadata": {},
     "output_type": "display_data"
    }
   ],
   "source": [
    "df_0 = df.loc[(df.frame==0) & (df.height>0), :].reset_index(drop=True)\n",
    "ply.iplot(dict(\n",
    "    data=[go.Scatter(dict(\n",
    "        x=df_0.loc_x,\n",
    "        y=df_0.loc_z,\n",
    "        mode=\"markers\"\n",
    "    \n",
    "    ))],\n",
    "    \n",
    "    layout = dict(\n",
    "        shapes=[dict(\n",
    "                type=\"rect\",\n",
    "                x0=df_0.loc[i, \"loc_x\"] - df_0.loc[i, \"width\"] / 2,\n",
    "                y0=df_0.loc[i, \"loc_z\"] - df_0.loc[i, \"length\"] / 2,\n",
    "                x1=df_0.loc[i, \"loc_x\"] + df_0.loc[i, \"width\"] / 2,\n",
    "                y1=df_0.loc[i, \"loc_z\"] + df_0.loc[i, \"length\"] / 2,\n",
    "#                 goo1=1\n",
    "                \n",
    "            ) for i in range(len(df_0))],\n",
    "        \n",
    "        xaxis=dict(constrain=\"domain\"),\n",
    "        yaxis=dict(scaleanchor=\"x\")\n",
    "    \n",
    "    )\n",
    "\n",
    "))"
   ]
  },
  {
   "cell_type": "code",
   "execution_count": null,
   "metadata": {},
   "outputs": [],
   "source": []
  }
 ],
 "metadata": {
  "kernelspec": {
   "display_name": "Python 3",
   "language": "python",
   "name": "python3"
  },
  "language_info": {
   "codemirror_mode": {
    "name": "ipython",
    "version": 3
   },
   "file_extension": ".py",
   "mimetype": "text/x-python",
   "name": "python",
   "nbconvert_exporter": "python",
   "pygments_lexer": "ipython3",
   "version": "3.7.3"
  }
 },
 "nbformat": 4,
 "nbformat_minor": 2
}
